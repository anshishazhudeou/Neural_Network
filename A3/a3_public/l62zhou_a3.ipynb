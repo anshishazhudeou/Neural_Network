{
 "cells": [
  {
   "cell_type": "markdown",
   "metadata": {},
   "source": [
    "# A3"
   ]
  },
  {
   "cell_type": "code",
   "execution_count": 240,
   "metadata": {
    "code_folding": [
     0
    ]
   },
   "outputs": [],
   "source": [
    "# Standard imports\n",
    "import numpy as np\n",
    "import matplotlib.pylab as plt\n",
    "%matplotlib inline\n",
    "import Network as Network\n",
    "import copy\n",
    "from IPython.display import Image\n",
    "from IPython.core.display import HTML \n"
   ]
  },
  {
   "cell_type": "markdown",
   "metadata": {
    "heading_collapsed": true
   },
   "source": [
    "# Q1: Vanishing Gradient"
   ]
  },
  {
   "cell_type": "markdown",
   "metadata": {
    "hidden": true
   },
   "source": [
    "## (a)"
   ]
  },
  {
   "cell_type": "markdown",
   "metadata": {
    "hidden": true
   },
   "source": [
    "link:\n"
   ]
  },
  {
   "cell_type": "markdown",
   "metadata": {
    "hidden": true
   },
   "source": [
    "## (b)"
   ]
  },
  {
   "cell_type": "markdown",
   "metadata": {
    "hidden": true
   },
   "source": [
    "Your answer here."
   ]
  },
  {
   "cell_type": "markdown",
   "metadata": {
    "hidden": true
   },
   "source": [
    "## (c) Plots"
   ]
  },
  {
   "cell_type": "code",
   "execution_count": 244,
   "metadata": {
    "hidden": true
   },
   "outputs": [
    {
     "name": "stderr",
     "output_type": "stream",
     "text": [
      "/anaconda3/lib/python3.7/site-packages/ipykernel_launcher.py:3: RuntimeWarning: divide by zero encountered in true_divide\n",
      "  This is separate from the ipykernel package so we can avoid doing imports until\n",
      "/anaconda3/lib/python3.7/site-packages/ipykernel_launcher.py:3: RuntimeWarning: invalid value encountered in sqrt\n",
      "  This is separate from the ipykernel package so we can avoid doing imports until\n"
     ]
    },
    {
     "data": {
      "image/png": "[encoded data removed]",
      "text/plain": [
       "<Figure size 432x288 with 1 Axes>"
      ]
     },
     "metadata": {
      "needs_background": "light"
     },
     "output_type": "display_data"
    }
   ],
   "source": [
    "# === YOUR CODE HERE ===\n",
    "def drawExpression(w):\n",
    "    return 2/abs(w)* np.log(abs(w)/2 *(1+ np.sqrt(1-4/abs(w))) -1)\n",
    "data = drawExpression(np.linspace(-10, -4, 100))\n",
    "data1 = np.linspace(4, 10, 100)\n",
    "dataY=drawExpression(data)\n",
    "data1Y=drawExpression(data1)\n",
    "plt.plot(data, dataY, 'blue')\n",
    "plt.plot(data1, data1Y, 'blue')\n",
    "plt.xlabel('input')\n",
    "plt.ylabel('expression')\n",
    "plt.show()"
   ]
  },
  {
   "cell_type": "markdown",
   "metadata": {},
   "source": [
    "# Q2: Dropout"
   ]
  },
  {
   "cell_type": "markdown",
   "metadata": {
    "heading_collapsed": true
   },
   "source": [
    "## Dataset"
   ]
  },
  {
   "cell_type": "code",
   "execution_count": 222,
   "metadata": {
    "code_folding": [],
    "hidden": true
   },
   "outputs": [],
   "source": [
    "def GenerateDatasets(n):\n",
    "    # 1D -> 1D (line mapping)\n",
    "    n_input = 1\n",
    "    n_output = 1\n",
    "    noise = 0.5\n",
    "\n",
    "    #np.random.seed(452)\n",
    "    a = np.random.rand()/2.\n",
    "    m = np.random.rand() + 0.5\n",
    "    b = np.random.rand()-0.5\n",
    "\n",
    "    def myfunc(x):\n",
    "        return a*x**2 + m*x + b\n",
    "\n",
    "    # Create a training dataset\n",
    "    n_samples = n\n",
    "    training_output = []\n",
    "    training_input = []\n",
    "    xv = np.linspace(-1, 1, n_samples)\n",
    "    for idx in range(n_samples):\n",
    "        #x = np.random.rand()*2. - 1.\n",
    "        x = xv[idx]\n",
    "        t = myfunc(x) + np.random.normal(scale=noise)\n",
    "        training_input.append(np.array([x]))\n",
    "        training_output.append(np.array([t]))\n",
    "\n",
    "    # Create a testing dataset\n",
    "    test_input = []\n",
    "    test_output = []\n",
    "    n_test_samples = 300\n",
    "    xv = np.linspace(-1, 1, n_test_samples)\n",
    "    for idx in range(n_test_samples):\n",
    "        #x = np.random.rand()*2. - 1.\n",
    "        x = xv[idx] #+ np.random.normal(scale=0.1)\n",
    "        t = myfunc(x) + np.random.normal(scale=noise)\n",
    "        test_input.append(np.array([x]))\n",
    "        test_output.append(np.array([t]))\n",
    "\n",
    "\n",
    "    train = [np.array(training_input), np.array(training_output)]\n",
    "    test = [np.array(test_input), np.array(test_output)]\n",
    "    \n",
    "    return train, test"
   ]
  },
  {
   "cell_type": "markdown",
   "metadata": {
    "heading_collapsed": true
   },
   "source": [
    "## Sample Code"
   ]
  },
  {
   "cell_type": "code",
   "execution_count": 223,
   "metadata": {
    "hidden": true
   },
   "outputs": [],
   "source": [
    "# Here is an example, creating a Network object.\n",
    "net = Network.Network(cost='cross-entropy')\n",
    "net.AddLayer(Network.Layer(1))\n",
    "net.AddLayer(Network.Layer(6, act='logistic'))\n",
    "net.AddLayer(Network.Layer(1, act='logistic'))"
   ]
  },
  {
   "cell_type": "code",
   "execution_count": 224,
   "metadata": {
    "hidden": true
   },
   "outputs": [],
   "source": [
    "# Generate the training and testing datasets\n",
    "P = 5\n",
    "train, test = GenerateDatasets(P)"
   ]
  },
  {
   "cell_type": "code",
   "execution_count": 225,
   "metadata": {
    "hidden": true
   },
   "outputs": [],
   "source": [
    "# Train the network\n",
    "progress = net.SGD(train[0], train[1], epochs=100, lrate=1.)"
   ]
  },
  {
   "cell_type": "code",
   "execution_count": 226,
   "metadata": {
    "hidden": true
   },
   "outputs": [
    {
     "name": "stdout",
     "output_type": "stream",
     "text": [
      "Training cost = 0.06967678711987028\n",
      "    Test cost = -0.21891759892426146\n"
     ]
    }
   ],
   "source": [
    "# Evaluate the cost \n",
    "print('Training cost = '+str(net.Evaluate(train[0], train[1])))\n",
    "print('    Test cost = '+str(net.Evaluate(test[0], test[1])))\n",
    "\n",
    "# These results won't necessarily make sense, since the network model\n",
    "# might not be the right choice for the dataset."
   ]
  },
  {
   "cell_type": "markdown",
   "metadata": {},
   "source": [
    "## 2 (a), (b), 3 (a) Completing the RobustNetwork Class"
   ]
  },
  {
   "cell_type": "code",
   "execution_count": 227,
   "metadata": {},
   "outputs": [],
   "source": [
    "class RobustNetwork(Network.Network):\n",
    "    \n",
    "    def FeedForward(self, x, dropout=0):\n",
    "        '''\n",
    "            y = net.FeedForward(x, dropout=0)\n",
    "\n",
    "            Runs the network forward, starting with x as input.\n",
    "            However, a random subset of the hidden nodes are set to 0 activity.\n",
    "            Returns the activity of the output layer.\n",
    "\n",
    "            Inputs:\n",
    "              x is a batch of inputs\n",
    "              dropout is a probability that a node is dropped, in [0,1]\n",
    "              \n",
    "            Outputs:\n",
    "              y is the batch of outputs (no dropout or the output layer)\n",
    "        '''\n",
    "        if dropout==0.:\n",
    "            self.dropout_nonzero = False  # Internal flag for dropout\n",
    "            super(RobustNetwork, self).FeedForward(x)\n",
    "        else:\n",
    "            self.dropout_nonzero = True   # Internal flag for dropout\n",
    "            \n",
    "            currLayer=0;\n",
    "            x = np.array(x)  # Convert input to array, in case it's not\n",
    "            \n",
    "            self.lyr[0].h = x # Set input layer\n",
    "            \n",
    "            self.mask = []  # mask will record which nodes were dropped\n",
    "            self.mask.append(None)  # Input layer does not have dropout\n",
    "    \n",
    "            # Loop over connections\n",
    "            for pre,post,W in zip(self.lyr[:-1], self.lyr[1:], self.W):\n",
    "                \n",
    "                # Calc. input current to next layer\n",
    "                post.z = pre.h @ W + post.b\n",
    "                # Use activation function to get activities\n",
    "                post.h = post.sigma(post.z)\n",
    "            \n",
    "                maxLayer = self.n_layers-2\n",
    "                if currLayer != maxLayer:\n",
    "                    numberofNodes = post.N\n",
    "                    npSeries = np.arange(numberofNodes)\n",
    "                    np.random.shuffle(npSeries)\n",
    "                    for i in range(numberofNodes):\n",
    "                        if npSeries[i] < (numberofNodes * dropout):\n",
    "                            npSeries[i]=0\n",
    "                        else:\n",
    "                            npSeries[i]=1\n",
    "                    remaining = 1- dropout\n",
    "                    npSeries= npSeries/remaining\n",
    "                    post.h*= npSeries\n",
    "                    # update mask \n",
    "                    self.mask.append(npSeries)\n",
    "                currLayer=currLayer+1\n",
    "        # Return activity of output layer\n",
    "        return self.lyr[-1].h\n",
    "    \n",
    "    \n",
    "    \n",
    "    def BackProp(self, t, lrate=0.05, decay=0.):\n",
    "        '''\n",
    "            net.BackProp(targets, lrate=0.05)\n",
    "            \n",
    "            Given the current network state and targets t, updates the connection\n",
    "            weights and biases using the backpropagation algorithm.\n",
    "            \n",
    "            Inputs:\n",
    "             t      an array of targets (number of samples must match the\n",
    "                    network's output)\n",
    "             lrate  learning rate\n",
    "             decay  is the coefficient for weight/bias decay\n",
    "        '''\n",
    "        t = np.array(t)  # convert t to an array, in case it's not\n",
    "        \n",
    "        # Error gradient for top layer\n",
    "        dEdz = self.TopGradient(t)\n",
    "        \n",
    "        # Loop down through the layers\n",
    "        for i in range(self.n_layers-2, -1, -1):\n",
    "            ithWeight=self.W[i]\n",
    "            pre = self.lyr[i]\n",
    "            \n",
    "            # Gradient w.r.t. weights\n",
    "            dEdW = pre.h.T @ dEdz + 2*decay*ithWeight\n",
    "            \n",
    "            # Gradient w.r.t. biases\n",
    "            dEdb = np.sum(dEdz, axis=0)\n",
    "            \n",
    "            # Project error gradient down to layer below.\n",
    "            if ((i>0)and(self.dropout_nonzero)):\n",
    "                dEdz = ( dEdz @ self.W[i].T ) * self.mask[i] * pre.sigma_z_p(pre.z)\n",
    "            \n",
    "            # Update weights and biases\n",
    "            self.W[i] -= lrate*dEdW\n",
    "            self.lyr[i+1].b -= lrate*dEdb\n",
    "    \n",
    "    \n",
    "    def SGD(self, inputs, targets, lrate=0.05, epochs=1, batch_size=10, decay=0, dropout=0):\n",
    "        '''\n",
    "            progress = net.SGD(inputs, targets, lrate=0.05, epochs=1, decay=0, dropout=0)\n",
    "\n",
    "            Performs Stochastic Gradient Descent on the network.\n",
    "            Run through the dataset in batches 'epochs' number of times, incrementing the\n",
    "            network weights after each batch. For each epoch, it\n",
    "            shuffles the dataset.\n",
    "\n",
    "            Inputs:\n",
    "              inputs  is an array of input samples\n",
    "              targets is a corresponding array of targets\n",
    "              lrate   is the learning rate (try 0.001 to 5)\n",
    "              epochs  is the number of times to go through the training data\n",
    "              decay   is the decay coefficient for the weights and biases\n",
    "              dropout is the dropout probability\n",
    "              \n",
    "            Outputs:\n",
    "              progress is an (expochs)x2 array with epoch in the first column, and \n",
    "                      cost in the second column\n",
    "        '''\n",
    "        loss_history = []\n",
    "        for k in range(epochs):\n",
    "            batches = Network.MakeBatches(inputs, targets, batch_size=batch_size, shuffle=True)\n",
    "            for mini_batch in batches:\n",
    "                self.FeedForward(mini_batch[0], dropout=dropout)\n",
    "                self.BackProp(mini_batch[1], decay=decay)\n",
    "\n",
    "            loss_history.append([k, self.Evaluate(inputs, targets)])\n",
    "\n",
    "        return np.array(loss_history)\n"
   ]
  },
  {
   "cell_type": "markdown",
   "metadata": {},
   "source": [
    "## (c) Create the Network"
   ]
  },
  {
   "cell_type": "code",
   "execution_count": 228,
   "metadata": {},
   "outputs": [],
   "source": [
    "# === YOUR CODE HERE ===\n",
    "original_net=RobustNetwork(\"MSE\")\n",
    "# one input node\n",
    "original_net.AddLayer(Network.Layer(1))\n",
    "# hidden layer with 10 nodes\n",
    "original_net.AddLayer(Network.Layer(10, \"arctan\"))\n",
    "#output node\n",
    "original_net.AddLayer(Network.Layer(1, \"identity\"))\n",
    "# make a copy \n",
    "dropout_net = copy.deepcopy(original_net)"
   ]
  },
  {
   "cell_type": "markdown",
   "metadata": {},
   "source": [
    "## (d) Train and Evaluate without dropout"
   ]
  },
  {
   "cell_type": "code",
   "execution_count": 229,
   "metadata": {},
   "outputs": [
    {
     "name": "stdout",
     "output_type": "stream",
     "text": [
      "averageLossTrainingSet 0.008972915179234774\n",
      "\n",
      "averageLossTestingSet 0.34208055018034933\n",
      "\n"
     ]
    }
   ],
   "source": [
    "# === YOUR CODE HERE ===\n",
    "# Generate the training and testing datasets\n",
    "P = 5\n",
    "train, test = GenerateDatasets(P)\n",
    "# Train the network\n",
    "progress = original_net.SGD(train[0], train[1], lrate=1, epochs=5000,batch_size=5,dropout=0)\n",
    "inputs = train[0]\n",
    "targets= train[1]\n",
    "averageLossTrainingSet = original_net.Evaluate(inputs, targets)\n",
    "inputs= test[0]\n",
    "targets=test[1]\n",
    "averageLossTestingSet = original_net.Evaluate(inputs, targets)\n",
    "print(\"averageLossTrainingSet\" + \" \" + str(averageLossTrainingSet) + \"\\n\")\n",
    "print(\"averageLossTestingSet\" + \" \" + str(averageLossTestingSet) + \"\\n\")"
   ]
  },
  {
   "cell_type": "markdown",
   "metadata": {},
   "source": [
    "## (e) Train and Evaluate with dropout"
   ]
  },
  {
   "cell_type": "code",
   "execution_count": 230,
   "metadata": {},
   "outputs": [
    {
     "name": "stdout",
     "output_type": "stream",
     "text": [
      "loss_history: \n",
      "[[0.00000000e+00 1.53244269e+00]\n",
      " [1.00000000e+00 1.02142781e+00]\n",
      " [2.00000000e+00 8.10841591e-01]\n",
      " ...\n",
      " [4.99700000e+03 2.43332506e-01]\n",
      " [4.99800000e+03 2.43390415e-01]\n",
      " [4.99900000e+03 2.43586368e-01]]\n",
      "Training Set \n",
      "MSE: 0.24358636814501175\n",
      "Test Set \n",
      "MSE: 0.2784265363989376\n"
     ]
    }
   ],
   "source": [
    "loss_history = dropout_net.SGD(train[0], train[1], lrate=1, epochs=5000, batch_size=5, dropout=0.2)\n",
    "print(\"loss_history: \") \n",
    "print(loss_history)\n",
    "print(\"Training Set \\n\" + \"MSE: \" + str(dropout_net.Evaluate(train[0], train[1])))\n",
    "print(\"Test Set \\n\" + \"MSE: \" + str(dropout_net.Evaluate(test[0], test[1])))"
   ]
  },
  {
   "cell_type": "markdown",
   "metadata": {},
   "source": [
    "## (f) Plot training data and models"
   ]
  },
  {
   "cell_type": "code",
   "execution_count": 231,
   "metadata": {},
   "outputs": [
    {
     "data": {
      "text/plain": [
       "Text(0, 0.5, 'outputs')"
      ]
     },
     "execution_count": 231,
     "metadata": {},
     "output_type": "execute_result"
    },
    {
     "data": {
      "image/png": "[encoded data removed]",
      "text/plain": [
       "<Figure size 432x288 with 1 Axes>"
      ]
     },
     "metadata": {
      "needs_background": "light"
     },
     "output_type": "display_data"
    }
   ],
   "source": [
    "# === YOUR CODE HERE ===\n",
    "plt.plot(train[0], train[1], \"bo\")\n",
    "plt.plot(test[0], test[1], \"yo\")\n",
    "plt.plot(train[0], original_net.FeedForward(train[0]), \"b--\")\n",
    "plt.plot(train[0], dropout_net.FeedForward(train[0], 0.2), \"r--\")\n",
    "plt.xlabel(\"inputs\") \n",
    "plt.ylabel(\"outputs\") "
   ]
  },
  {
   "cell_type": "markdown",
   "metadata": {},
   "source": [
    "## (g) Average performance over 10 datasets"
   ]
  },
  {
   "cell_type": "code",
   "execution_count": 232,
   "metadata": {},
   "outputs": [
    {
     "name": "stdout",
     "output_type": "stream",
     "text": [
      "trial #0 without dropout cost= 0.34026542855895087 with dropoutcost= 0.3182917478079146\n",
      "\n",
      "trial #1 without dropout cost= 0.6164536634622393 with dropoutcost= 0.5413131204103614\n",
      "\n",
      "trial #2 without dropout cost= 0.2756753714500441 with dropoutcost= 0.3060349398880884\n",
      "\n",
      "trial #3 without dropout cost= 0.46702207219064745 with dropoutcost= 0.48439378854702786\n",
      "\n",
      "trial #4 without dropout cost= 0.294196971823766 with dropoutcost= 0.35290528124818565\n",
      "\n",
      "trial #5 without dropout cost= 0.38195424462121075 with dropoutcost= 0.43413661738606835\n",
      "\n",
      "trial #6 without dropout cost= 0.36402451451014545 with dropoutcost= 0.43036788928114805\n",
      "\n",
      "trial #7 without dropout cost= 0.38922057008577243 with dropoutcost= 0.4198318993090322\n",
      "\n",
      "trial #8 without dropout cost= 0.5253199385894836 with dropoutcost= 0.6932998204931228\n",
      "\n",
      "trial #9 without dropout cost= 0.44854538152060314 with dropoutcost= 0.4355311048588565\n",
      "\n",
      "mean cost without dropout 10 times = 0.41026781568128634\n",
      "\n",
      "mean cost with dropout 10 times = 0.4416106209229806\n",
      "\n"
     ]
    }
   ],
   "source": [
    "# === YOUR CODE HERE ===\n",
    "arr = np.zeros((10, 3))\n",
    "# each [] store the # orgin_net_cost, dropout_net_cost\n",
    "\n",
    "i = 0\n",
    "originalCost=[]\n",
    "dropoutCost=[]\n",
    "for i in range(10):\n",
    "    list =[]\n",
    "    # step 1\n",
    "    original_net=RobustNetwork(\"MSE\")\n",
    "    # one input node\n",
    "    original_net.AddLayer(Network.Layer(1))\n",
    "    # hidden layer with 10 nodes\n",
    "    original_net.AddLayer(Network.Layer(10, \"arctan\"))\n",
    "    #output node\n",
    "    original_net.AddLayer(Network.Layer(1, \"identity\"))\n",
    "    # make a copy \n",
    "    dropout_net = copy.deepcopy(original_net)\n",
    "    # step 2\n",
    "    trainDataset, testDataset = GenerateDatasets(5)\n",
    "    # setp 2, trin one with without/with dropout\n",
    "    original_net.SGD(trainDataset[0], trainDataset[1], lrate=1, epochs=5000, batch_size=5)\n",
    "    dropout_net.SGD(trainDataset[0], trainDataset[1], lrate=1, epochs=5000, batch_size=5, dropout=0.2)\n",
    "    list.append(i)\n",
    "    list.append(original_net.Evaluate(test[0], test[1]))\n",
    "    list.append(dropout_net.Evaluate(test2[0], test2[1]))\n",
    "    originalCost.append(list[1])\n",
    "    dropoutCost.append(list[2])\n",
    "    print(\"trial #\" + str(list[0]) + \" without dropout cost= \" + str(list[1]) + \" with dropoutcost= \" + str(list[2]) + '\\n')\n",
    "    \n",
    "print(\"mean cost without dropout 10 times = \" + str(sum(originalCost)/10) +'\\n')\n",
    "print(\"mean cost with dropout 10 times = \" + str(sum(dropoutCost)/10) +'\\n')\n"
   ]
  },
  {
   "cell_type": "markdown",
   "metadata": {},
   "source": [
    "I prefer dropout model, since the mean cost of dropout is relative smaller and it prevent over-fitting\n"
   ]
  },
  {
   "cell_type": "markdown",
   "metadata": {},
   "source": [
    "# Q3: Weight Decay"
   ]
  },
  {
   "cell_type": "markdown",
   "metadata": {},
   "source": [
    "## (a) Implement weigth decay in BackProp (see code above)"
   ]
  },
  {
   "cell_type": "markdown",
   "metadata": {},
   "source": [
    "## (b) Average performance over 10 datasets"
   ]
  },
  {
   "cell_type": "code",
   "execution_count": 233,
   "metadata": {},
   "outputs": [
    {
     "name": "stdout",
     "output_type": "stream",
     "text": [
      "trial #0 original cost= 1.2528585857588868 with decay cost= 0.4355311048588565\n",
      "\n",
      "trial #1 original cost= 0.2849858296682092 with decay cost= 0.4355311048588565\n",
      "\n",
      "trial #2 original cost= 0.38036033052220103 with decay cost= 0.4355311048588565\n",
      "\n",
      "trial #3 original cost= 0.270776884319786 with decay cost= 0.4355311048588565\n",
      "\n",
      "trial #4 original cost= 0.45367712024017653 with decay cost= 0.4355311048588565\n",
      "\n",
      "trial #5 original cost= 0.2632693527072921 with decay cost= 0.4355311048588565\n",
      "\n",
      "trial #6 original cost= 0.3356442432193026 with decay cost= 0.4355311048588565\n",
      "\n",
      "trial #7 original cost= 0.5168098582634771 with decay cost= 0.4355311048588565\n",
      "\n",
      "trial #8 original cost= 0.38591905972715973 with decay cost= 0.4355311048588565\n",
      "\n",
      "trial #9 original cost= 0.7422177972147007 with decay cost= 0.4355311048588565\n",
      "\n",
      "mean cost of original 10 times = 0.48865190616411913\n",
      "\n",
      "mean cost with decay 10 times = 0.4355311048588565\n",
      "\n"
     ]
    }
   ],
   "source": [
    "# === YOUR CODE HERE ===\n",
    "# === YOUR CODE HERE ===\n",
    "arr = np.zeros((10, 3))\n",
    "# each [] store the # orgin_net_cost, dropout_net_cost\n",
    "\n",
    "i = 0\n",
    "originalCost=[]\n",
    "decayCost=[]\n",
    "for i in range(10):\n",
    "    list =[]\n",
    "    # step 1\n",
    "    original_net=RobustNetwork(\"MSE\")\n",
    "    # one input node\n",
    "    original_net.AddLayer(Network.Layer(1))\n",
    "    # hidden layer with 10 nodes\n",
    "    original_net.AddLayer(Network.Layer(10, \"arctan\"))\n",
    "    #output node\n",
    "    original_net.AddLayer(Network.Layer(1, \"identity\"))\n",
    "    # make a copy \n",
    "    decay_net = copy.deepcopy(original_net)\n",
    "    # step 2\n",
    "    trainDataset, testDataset = GenerateDatasets(5)\n",
    "    # setp 2, trin one with without/with dropout\n",
    "    original_net.SGD(trainDataset[0], trainDataset[1], lrate=1, epochs=5000, batch_size=5)\n",
    "    decay_net.SGD(trainDataset[0], trainDataset[1], lrate=1, epochs=5000, batch_size=5, dropout=0.2)\n",
    "    list.append(i)\n",
    "    list.append(original_net.Evaluate(test[0], test[1]))\n",
    "    list.append(dropout_net.Evaluate(test2[0], test2[1]))\n",
    "    originalCost.append(list[1])\n",
    "    decayCost.append(list[2])\n",
    "    print(\"trial #\" + str(list[0]) + \" original cost= \" + str(list[1]) + \" with decay cost= \" + str(list[2]) + '\\n')\n",
    "    \n",
    "print(\"mean cost of original 10 times = \" + str(sum(originalCost)/10) +'\\n')\n",
    "print(\"mean cost with decay 10 times = \" + str(sum(decayCost)/10) +'\\n')\n"
   ]
  },
  {
   "cell_type": "markdown",
   "metadata": {},
   "source": [
    "I prefer dacay model. Since it has less cose as compared to original one which bascially means we hava a better performace"
   ]
  },
  {
   "cell_type": "markdown",
   "metadata": {},
   "source": [
    "# Q4: Classifier Networks"
   ]
  },
  {
   "cell_type": "markdown",
   "metadata": {},
   "source": [
    "## Create and interesting dataset"
   ]
  },
  {
   "cell_type": "code",
   "execution_count": 234,
   "metadata": {
    "code_folding": [
     18
    ]
   },
   "outputs": [],
   "source": [
    "def ClassPlot(x, y):\n",
    "    # FeedForward\n",
    "    yc = Network.OneHot(y)\n",
    "    colour_options = ['y', 'b', 'r', 'g', 'k']\n",
    "    cidx = np.argmax(yc, axis=1)\n",
    "    colours = [colour_options[k] for k in cidx]\n",
    "    plt.scatter(x[:,0],x[:,1], color=colours, marker='.')\n",
    "    plt.axis('equal');\n",
    "\n",
    "def GaussianCluster(mu, sa, N, theta=0.):\n",
    "    theta_rad = theta/180*np.pi\n",
    "    c, s = np.cos(theta_rad), np.sin(theta_rad)\n",
    "    R = np.array([[c,-s],[s,c]])\n",
    "    M = R @ np.diag(sa) @ R.T\n",
    "    y = np.random.multivariate_normal(mu, M, N)\n",
    "    return y\n",
    "\n",
    "def CreateDataset(params):\n",
    "    '''\n",
    "        train, test = CreateDataset(params)\n",
    "        \n",
    "        Creates a dataset using a bunch of Gaussian clouds.\n",
    "        \n",
    "        Inputs:\n",
    "          params is a list of 5-tuples. Each tuple (or list)\n",
    "             describes a 2-D Gaussian cloud:\n",
    "             1) the mean\n",
    "             2) standard deviation along x and y directions\n",
    "             3) rotation of cloud (degrees counter-clockwise)\n",
    "             4) class index\n",
    "             5) number of points\n",
    "             \n",
    "        Outputs:\n",
    "          train is a list containing 2 arrays\n",
    "             - the first array contains the training inputs,\n",
    "               one per row\n",
    "             - the second array contains the corresponding classes\n",
    "          test has the same structure as train, but with\n",
    "               half the number of samples\n",
    "    '''\n",
    "    train_inputs = []\n",
    "    train_outputs = []\n",
    "    test_inputs = []\n",
    "    test_outputs = []\n",
    "    all_c = [p[3] for p in params]\n",
    "    n_classes = np.max(all_c)\n",
    "    for p in params:\n",
    "        xx = GaussianCluster(p[0], p[1], p[4], theta=p[2])\n",
    "        yy = np.zeros((p[4], n_classes+1))\n",
    "        yy[:,p[3]] = 1.\n",
    "        train_inputs.append(xx)\n",
    "        train_outputs.append(yy)\n",
    "        xtest = GaussianCluster(p[0], p[1], int(p[4]/2), theta=p[2])\n",
    "        ytest = np.zeros((int(p[4]/2), n_classes+1))\n",
    "        ytest[:,p[3]] = 1.\n",
    "        test_inputs.append(xtest)\n",
    "        test_outputs.append(ytest)\n",
    "    train = [np.vstack(train_inputs), np.vstack(train_outputs)]\n",
    "    test = [np.vstack(test_inputs), np.vstack(test_outputs)]\n",
    "    return train, test\n",
    "\n",
    "# 0=y, 1=b, 2=r\n",
    "params = [[[0.5, 0.5],   [0.025, 0.01],  -45, 0, 50],\n",
    "          [[-0.5,-0.5],  [0.025, 0.01],  -45, 0, 50],\n",
    "          [[-0.3,-0.35], [0.04,0.01],     10, 0, 80],\n",
    "          [[0.6,0],      [0.01,0.01],      0, 0, 50],\n",
    "          [[0.1,-0.04],  [0.1,0.005],     20, 0, 80],\n",
    "          [[0.5,-0.5],   [0.02,0.01],     45, 1, 50],\n",
    "          [[0,0.6],      [0.01,0.01],      0, 1, 50],\n",
    "          [[-0.5,0.1],   [0.02,0.01],     30, 1, 80],\n",
    "          [[-0.5,0.5],   [0.02,0.01],     45, 2, 50],\n",
    "          [[0,-0.6],     [0.01,0.01],      0, 2, 50],\n",
    "          [[0.2,0.3],    [0.01,0.004],     0, 2, 80],\n",
    "          [[-0.2,0.37],  [0.02,0.005],   -30, 2, 50],\n",
    "          [[0.25,-0.3],  [0.005,0.01],     0, 3, 60],\n",
    "          [[-0.1,0.1],   [0.01,0.01],    -30, 3, 50]\n",
    "         ]"
   ]
  },
  {
   "cell_type": "code",
   "execution_count": 235,
   "metadata": {},
   "outputs": [],
   "source": [
    "train, test = CreateDataset(params)"
   ]
  },
  {
   "cell_type": "code",
   "execution_count": 236,
   "metadata": {},
   "outputs": [
    {
     "data": {
      "image/png": "[encoded data removed]",
      "text/plain": [
       "<Figure size 432x288 with 1 Axes>"
      ]
     },
     "metadata": {
      "needs_background": "light"
     },
     "output_type": "display_data"
    }
   ],
   "source": [
    "ClassPlot(train[0], train[1]);"
   ]
  },
  {
   "cell_type": "markdown",
   "metadata": {},
   "source": [
    "## (a) Create and Evaluate a Neural Network"
   ]
  },
  {
   "cell_type": "code",
   "execution_count": 237,
   "metadata": {},
   "outputs": [],
   "source": [
    "# === YOUR CODE HERE ==="
   ]
  },
  {
   "cell_type": "markdown",
   "metadata": {},
   "source": [
    "## (b) Evaluate Model"
   ]
  },
  {
   "cell_type": "code",
   "execution_count": 238,
   "metadata": {},
   "outputs": [],
   "source": [
    "# === YOUR CODE HERE ==="
   ]
  },
  {
   "cell_type": "markdown",
   "metadata": {},
   "source": [
    "## (c) Crappy Network"
   ]
  },
  {
   "cell_type": "code",
   "execution_count": 239,
   "metadata": {},
   "outputs": [],
   "source": [
    "# === YOUR CODE HERE ==="
   ]
  },
  {
   "cell_type": "code",
   "execution_count": null,
   "metadata": {},
   "outputs": [],
   "source": []
  },
  {
   "cell_type": "code",
   "execution_count": null,
   "metadata": {},
   "outputs": [],
   "source": []
  },
  {
   "cell_type": "code",
   "execution_count": null,
   "metadata": {},
   "outputs": [],
   "source": []
  },
  {
   "cell_type": "code",
   "execution_count": null,
   "metadata": {},
   "outputs": [],
   "source": []
  }
 ],
 "metadata": {
  "kernelspec": {
   "display_name": "Python 3",
   "language": "python",
   "name": "python3"
  },
  "language_info": {
   "codemirror_mode": {
    "name": "ipython",
    "version": 3
   },
   "file_extension": ".py",
   "mimetype": "text/x-python",
   "name": "python",
   "nbconvert_exporter": "python",
   "pygments_lexer": "ipython3",
   "version": "3.7.1"
  },
  "toc": {
   "nav_menu": {},
   "number_sections": true,
   "sideBar": true,
   "skip_h1_title": false,
   "title_cell": "Table of Contents",
   "title_sidebar": "Contents",
   "toc_cell": false,
   "toc_position": {},
   "toc_section_display": true,
   "toc_window_display": false
  }
 },
 "nbformat": 4,
 "nbformat_minor": 2
}
