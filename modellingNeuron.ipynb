{
 "cells": [
  {
   "cell_type": "markdown",
   "metadata": {},
   "source": [
    "# A1"
   ]
  },
  {
   "cell_type": "code",
   "execution_count": 461,
   "metadata": {
    "code_folding": [
     0
    ]
   },
   "outputs": [],
   "source": [
    "# Standard imports\n",
    "import numpy as np\n",
    "import math\n",
    "import matplotlib.pyplot as plt\n",
    "%matplotlib inline\n",
    "from scipy import integrate"
   ]
  },
  {
   "cell_type": "markdown",
   "metadata": {
    "heading_collapsed": true
   },
   "source": [
    "## Some supplied helper functions"
   ]
  },
  {
   "cell_type": "code",
   "execution_count": 462,
   "metadata": {
    "code_folding": [],
    "hidden": true
   },
   "outputs": [],
   "source": [
    "def PlotSpikeRaster(st, y_range=[0, 1.]):\n",
    "    '''\n",
    "    PlotSpikeRaster(spiketimes, y_range=[0, 1.])\n",
    "\n",
    "    Plots a spike raster plot for a list of arrays of spike times.\n",
    "\n",
    "    Input:\n",
    "      spiketimes is a list of arrays of spike times, like that returned\n",
    "          by the function Stim2Spikes.\n",
    "      y_range is a 2-tuple that holds the y-values that the raster ticks\n",
    "          should be drawn between\n",
    "    '''\n",
    "    N = len(st)  # number of neurons\n",
    "\n",
    "    #levels = np.linspace(y_range[0], y_range[1], N+1, endpoint=True)\n",
    "    levels = np.linspace(y_range[1], y_range[0], N+1, endpoint=True)\n",
    "    for n in range(N):\n",
    "        nspikes = len(st[n])\n",
    "        #y = [ [levels[n]]*nspikes , [levels[n+1]]*nspikes ]\n",
    "        y = [ [levels[n+1]]*nspikes , [levels[n]]*nspikes ]\n",
    "        #y = y_range[0] + [levels[n]]*nspikes\n",
    "        plt.plot(np.vstack((st[n],st[n])), y, color=np.random.rand(3))\n",
    "    plt.ylim(y_range)\n",
    "    plt.xlabel('Time (s)')\n",
    "    return\n",
    "\n",
    "\n",
    "def GenerateSpikeTrain(rates, T, jitter=0.):\n",
    "    '''\n",
    "    spike_times = GenerateSpikeTrain(rates, T)\n",
    "    \n",
    "    Creates a spike train (as an array of time stamps).\n",
    "    \n",
    "    Input:\n",
    "    rates is an array or list of firing rates (in Hz), one\n",
    "        firing rate for each interval.\n",
    "    T is an array or list (the same size as 'rates') that gives\n",
    "        the time to end each interval\n",
    "    jitter is a scalar that determines how much the spikes\n",
    "        are randomly moved\n",
    "        \n",
    "    Output:\n",
    "    spike_times is an array of times when spikes occurred\n",
    "    \n",
    "    Example: To create a spike train of 10Hz for 0.5s, followed\n",
    "             by 25Hz that starts at 0.5s and ends at 2s, use\n",
    "             \n",
    "               GenerateSpikeTrain([10, 25], [0.5, 2])\n",
    "    '''\n",
    "    s = []\n",
    "    t = 0.\n",
    "    for idx in range(0,len(rates)):\n",
    "        Trange = T[idx] - t\n",
    "        if rates[idx]!=0:\n",
    "            delta = 1. / rates[idx]\n",
    "            N = rates[idx] * Trange\n",
    "            times = np.arange(t+delta/2., T[idx], delta)\n",
    "            times += np.random.normal(scale=delta*jitter, size=np.shape(times))\n",
    "            s.extend(times)\n",
    "        t = T[idx]\n",
    "    s.sort()\n",
    "    return np.array(s)\n",
    "\n",
    "\n",
    "class InputNeuron(object):\n",
    "    \n",
    "    def __init__(self, spiketrain):\n",
    "        '''\n",
    "        InputNeuron(spiketrain)\n",
    "        \n",
    "        Constructor for InputNeuron class.\n",
    "        \n",
    "        InputNeuron is a class of neuron that can be used to inject spikes into\n",
    "        the network. When involved in a simulation, an InputNeuron will generate\n",
    "        spikes at the times specified during its construction.\n",
    "        \n",
    "        Inputs:\n",
    "         spiketrain is an array or list of spike times\n",
    "        '''\n",
    "        self.spikes = np.array(spiketrain)\n",
    "\n",
    "    def SpikesBetween(self, t_start, t_end):\n",
    "        '''\n",
    "        numspikes = InputNeuron.SpikesBetween(t_start, t_end)\n",
    "        \n",
    "        Returns the number of times the neuron spiked between t_start and t_end.\n",
    "        Specifically, it counts a spike if it occurred at t, where\n",
    "        t_start <= t < t_end\n",
    "        '''\n",
    "        sp_bool = np.logical_and( np.array(self.spikes)>=t_start, np.array(self.spikes)<t_end )\n",
    "        return np.sum(sp_bool)\n",
    "    \n",
    "    def Slope(self):\n",
    "        return\n",
    "    \n",
    "    def Step(self, t, dt):\n",
    "        return"
   ]
  },
  {
   "cell_type": "markdown",
   "metadata": {},
   "source": [
    "# Q1: LIFNeuron Class"
   ]
  },
  {
   "cell_type": "markdown",
   "metadata": {},
   "source": [
    "## LIFNeuron class"
   ]
  },
  {
   "cell_type": "code",
   "execution_count": 463,
   "metadata": {
    "code_folding": []
   },
   "outputs": [],
   "source": [
    "class LIFNeuron(object):\n",
    "\n",
    "    def __init__(self, tau_m=0.02, tau_ref=0.002, tau_s=0.05):\n",
    "        '''\n",
    "        LIFNeuron(tau_m=0.02, tau_ref=0.002, tau_s=0.05)\n",
    "        \n",
    "        Constructor for LIFNeuron class\n",
    "        \n",
    "        Inputs:\n",
    "         tau_m   membrane time constant, in seconds (s)\n",
    "         tau_ref refractory period (s)\n",
    "         tau_s   synaptic time constant (s)\n",
    "        '''\n",
    "        self.tau_m = tau_m      # membrane time constant\n",
    "        self.tau_ref = tau_ref  # refractory period\n",
    "        self.tau_s = tau_s      # synaptic time constant\n",
    "        self.v = 0.             # sub-threshold membrane potential (voltage)\n",
    "        self.s = 0.             # post-synaptic current (PSC)\n",
    "        self.dvdt = 0.          # slope of v (w.r.t. time)\n",
    "        self.dsdt = 0.          # slope of s (w.r.t. time)\n",
    "        \n",
    "        self.weighted_incoming_spikes = 0.  # weighted sum of incoming spikes (for one time step)\n",
    "        self.ref_remaining = 0. # amount of time remaining in the refractory period\n",
    "        \n",
    "        # For plotting\n",
    "        self.v_history = []     # records v over time\n",
    "        self.spikes = []        # list of times when this neuron spiked\n",
    "        self.s_history = []     # record postSynatic current over time\n",
    "\n",
    "    def SpikesBetween(self, t_start, t_end):\n",
    "        '''\n",
    "        numspikes = LIFNeuron.SpikesBetween(t_start, t_end)\n",
    "        \n",
    "        Returns the number of times the neuron spiked between t_start and t_end.\n",
    "        Specifically, it counts a spike if it occurred at t, where\n",
    "        t_start <= t < t_end\n",
    "        '''\n",
    "        sp_bool = np.logical_and( np.array(self.spikes)>=t_start, np.array(self.spikes)<t_end )\n",
    "        return np.sum(sp_bool)\n",
    "    \n",
    "    \n",
    "    def Slope(self):\n",
    "        '''\n",
    "        LIFNeuron.Slope()\n",
    "        \n",
    "        Evaluates the right-hand side of the differential equations that\n",
    "        govern v and s. The slopes get stored in the internal variables\n",
    "          self.dvdt, and\n",
    "          self.dsdt\n",
    "        '''\n",
    "        #==== REPLACE THE CODE BELOW ====\n",
    "        self.dvdt = (self.s - self.v) / self.tau_m # record the rate of change of sub-threshold membrane potential\n",
    "                                                   # between spikes\n",
    "        self.dsdt = -(self.s / self.tau_s)\n",
    "        \n",
    "        \n",
    "    def Step(self, t, dt):\n",
    "        '''\n",
    "        LIFNeuron.Step(t, dt)\n",
    "        \n",
    "        Updates the LIF neuron state by taking an Euler step in v and s.\n",
    "        If v reaches the threshold of 1, the neuron fires an action potential\n",
    "        (spike). The spike time is appended to the list self.spikes, and v\n",
    "        is set to zero. After a spike, the neuron is dormant for self.tau_ref\n",
    "        seconds.\n",
    "        \n",
    "        If a spike occurs part-way through a time step, inear interpolation\n",
    "        is used to estimate the time that v hit the threshold of 1.\n",
    "        '''\n",
    "        \n",
    "        #==== PLACE YOUR CODE HERE ====\n",
    "        \n",
    "        # Euler's formula section\n",
    "        # update current postSynatic current\n",
    "        self.s += dt*self.dsdt + self.weighted_incoming_spikes / self.tau_s \n",
    "        # if we are in refactory period, set v to zero and update ref_remaining\n",
    "        if self.ref_remaining > 0:\n",
    "            self.v = 0\n",
    "            self.ref_remaining -= dt\n",
    "        else:\n",
    "            self.v += dt * self.dvdt\n",
    "        # spike happens\n",
    "        if self.v >= 1.0:\n",
    "            # update spike time \n",
    "            prevVoltage = self.v_history[-1]\n",
    "            currVoltage = self.v\n",
    "            timeSpike = t + dt * ((1 - prevVoltage)/(currVoltage - prevVoltage))\n",
    "            self.spikes.append(timeSpike)\n",
    "            # set v to the threshold\n",
    "            self.v = 1\n",
    "            # update self.ref_remaining, t is the current time\n",
    "            timePassedAfterSpike = timeSpike - t\n",
    "            self.ref_remaining = self.tau_ref - timePassedAfterSpike\n",
    "        # Store v (for plotting), and reset incoming spike accumulator\n",
    "        self.s_history.append(self.s)\n",
    "        self.v_history.append(self.v)\n",
    "        self.weighted_incoming_spikes = 0\n",
    "        \n",
    "    def ReceiveSpike(self, w):\n",
    "        '''\n",
    "        LIFNeuron.ReceiveSpike(w)\n",
    "        \n",
    "        Registers the arrival of a spike from a presynaptic neuron. The\n",
    "        member variable self.weighted_incoming_spikes keeps track of all\n",
    "        the incoming spikes, each weighted by their respective connection\n",
    "        weights. It is sufficient to add them all together to tabulate the\n",
    "        total incoming weighted spikes (from all presynaptic neurons).\n",
    "        \n",
    "        Input:\n",
    "         w    is the connection weight from the presynaptic neuron.\n",
    "        '''\n",
    "        self.weighted_incoming_spikes += w  # [1]\n",
    "        "
   ]
  },
  {
   "cell_type": "markdown",
   "metadata": {},
   "source": [
    "# Q2: SpikingNetwork Class"
   ]
  },
  {
   "cell_type": "markdown",
   "metadata": {},
   "source": [
    "## SpikingNetwork Class"
   ]
  },
  {
   "cell_type": "code",
   "execution_count": 464,
   "metadata": {},
   "outputs": [],
   "source": [
    "class SpikingNetwork(object):\n",
    "    \n",
    "    def __init__(self):\n",
    "        '''\n",
    "        SpikingNetwork()\n",
    "        \n",
    "        Constructor for SpikingNetwork class.\n",
    "        \n",
    "        The SpikingNetwork class contains a collection of neurons,\n",
    "        and the connections between those neurons.\n",
    "        '''\n",
    "        self.neurons = []      # List of neurons (of various kinds)\n",
    "        self.connections = []  # List of connections\n",
    "        self.t_history = []    # List of time stamps for the Euler steps\n",
    "                               # (Useful for plotting)\n",
    "        \n",
    "        \n",
    "    def AddNeuron(self, neur):\n",
    "        '''\n",
    "        SpikingNetwork.AddNeuron(neuron)\n",
    "        \n",
    "        Adds a neuron to the network.\n",
    "        \n",
    "        Input:\n",
    "         neuron is an object of type LIFNeuron or InputNeuron\n",
    "        '''\n",
    "        self.neurons.append(neur)\n",
    "\n",
    "        \n",
    "    def Connect(self, pre, post, w):\n",
    "        '''\n",
    "        SpikingNetwork.Connect(pre, post, w)\n",
    "        \n",
    "        Connects neuron 'pre' to neuron 'post' with a connection\n",
    "        weigth of w.\n",
    "        \n",
    "        Each \"connection\" is a list of 3 numbers of the form:\n",
    "         [ pre_idx, post_idx, weight ]\n",
    "        where\n",
    "         pre_idx is the list index of the pre-synaptic neuron,\n",
    "         post_idx is the list index of the post-synaptic neuron, and\n",
    "         weight is the connection weight.\n",
    "        eg. self.connections = [[0,1,0.05], [1,2,0.04], [1,0,-0.2]]\n",
    "        '''\n",
    "        self.connections.append([pre, post, w])\n",
    "     \n",
    "    \n",
    "    def Simulate(self, T, dt=0.001):\n",
    "        '''\n",
    "        SpikingNetwork.Simulate(T, dt=0.001)\n",
    "        \n",
    "        Simulates the network for T seconds by taking Euler steps\n",
    "        of size dt.\n",
    "        \n",
    "        Inputs:\n",
    "         T    how long to integrate for\n",
    "         dt   time step for Euler's method\n",
    "        '''\n",
    "        # This code takes care of recording time samples in a way\n",
    "        # that allows continuation. You needn't fuss over this code.\n",
    "        current = 0 if len(self.t_history)==0 else self.t_history[-1]\n",
    "        t_segment = np.arange(current, current+T, dt)\n",
    "        \n",
    "        #==== HERE IS WHERE YOUR CODE STARTS ====\n",
    "        \n",
    "        # Loop over time steps (I've set that up for you)\n",
    "        # tt is the time step\n",
    "        for tt in t_segment:\n",
    "            self.t_history.append(tt)  # Record time stamp for each Euluer method\n",
    "            # update neuron's slope\n",
    "            for neuron in self.neurons:\n",
    "                neuron.Slope()\n",
    "            # update neuron's step\n",
    "            for neuron in self.neurons:\n",
    "                neuron.Step(tt, dt)\n",
    "            # tabulate the next step\n",
    "            for previousSynaticNeuron, postSynaticNeuron, weight in self.connections:\n",
    "                timeStampAfterSpike = tt + dt\n",
    "                numberOfSpikes=self.neurons[previousSynaticNeuron].SpikesBetween(tt, tt+dt)\n",
    "                self.neurons[postSynaticNeuron].ReceiveSpike(numberOfSpikes*weight)\n",
    "            \n",
    "        #==== PLACE YOUR CODE HERE ====\n",
    "\n",
    "        \n",
    "        \n",
    "    def AllSpikeTimes(self):\n",
    "        '''\n",
    "        SpikingNetwork.AllSpikeTimes()\n",
    "        \n",
    "        Returns all the spikes of all the neurons in the network.\n",
    "        Useful for making spike-raster plots of network activity.\n",
    "        \n",
    "        Output:\n",
    "         all_spikes  a list of sublists, where each sublist holds\n",
    "                     the spike times of one of the neurons\n",
    "        '''\n",
    "        blah = []\n",
    "        for neur in self.neurons:\n",
    "            blah.append(np.array(neur.spikes))\n",
    "        return blah"
   ]
  },
  {
   "cell_type": "markdown",
   "metadata": {
    "heading_collapsed": true
   },
   "source": [
    "# Q3: Experiments with Spiking Networks"
   ]
  },
  {
   "cell_type": "markdown",
   "metadata": {
    "hidden": true
   },
   "source": [
    "## (a) One LIF Neuron"
   ]
  },
  {
   "cell_type": "code",
   "execution_count": 465,
   "metadata": {
    "hidden": true
   },
   "outputs": [],
   "source": [
    "net = SpikingNetwork()\n",
    "'''\n",
    "         tau_m   membrane time constant, in seconds (s)\n",
    "         tau_ref refractory period (s)\n",
    "         tau_s   synaptic time constant (s)\n",
    "'''\n",
    "net.AddNeuron(LIFNeuron(tau_m=0.02,tau_ref=0.002, tau_s=0.1))  # Neuron 0\n",
    "# GenerateSpikeTrain(rates, T)\n",
    "# rate is an array or list of firing rates (in Hz), one firing rate for each interval.\n",
    "# T is an array or list( the same size as \"rates\") that gives the time to end eac iterval\n",
    "\n",
    "# InputNeuron is not a real neuron; Its only job is to deliver spikes, which is useful to activate\n",
    "# the other(real) neurons in the network\n",
    "net.AddNeuron(InputNeuron( GenerateSpikeTrain([30], [1]) ))  # Neuron 1\n",
    "# Connects neuron 'pre' to neuron 'post' with a connection weigtht of w.\n",
    "net.Connect(1, 0, 0.05)  # Connect from neuron 1 to neuron 0\n",
    "\n",
    "# Simulates the network for T seconds by taking Euler steps of size dt.\n",
    "net.Simulate(1, 0.001)"
   ]
  },
  {
   "cell_type": "code",
   "execution_count": 466,
   "metadata": {
    "hidden": true
   },
   "outputs": [
    {
     "data": {
      "image/png": "[encoded data removed]",
      "text/plain": [
       "<Figure size 432x288 with 1 Axes>"
      ]
     },
     "metadata": {
      "needs_background": "light"
     },
     "output_type": "display_data"
    }
   ],
   "source": [
    "# i.\n",
    "neuron0=net.neurons[0]\n",
    "simulationTime=net.t_history\n",
    "subThreadholdMembranePotentialOfNeuron0=neuron0.v_history\n",
    "\n",
    "# create figure (empyt canvas) by default\n",
    "plt.figure()\n",
    "plt.plot(simulationTime, subThreadholdMembranePotentialOfNeuron0, 'r')\n",
    "plt.xlabel('Simulation Time')\n",
    "plt.ylabel('Membrane Potential')\n",
    "plt.title('Sub-threshold Membrane Potential of The LIF Neuron')\n",
    "plt.show()"
   ]
  },
  {
   "cell_type": "code",
   "execution_count": 467,
   "metadata": {
    "hidden": true,
    "scrolled": true
   },
   "outputs": [
    {
     "data": {
      "image/png": "[encoded data removed]",
      "text/plain": [
       "<Figure size 432x288 with 1 Axes>"
      ]
     },
     "metadata": {
      "needs_background": "light"
     },
     "output_type": "display_data"
    }
   ],
   "source": [
    "# ii.\n",
    "spikesTimeOfAllNeuronsInNetwork=net.AllSpikeTimes()\n",
    "PlotSpikeRaster(spikesTimeOfAllNeuronsInNetwork)"
   ]
  },
  {
   "cell_type": "markdown",
   "metadata": {
    "hidden": true
   },
   "source": [
    "## (b) LIF Firing Rate Curve"
   ]
  },
  {
   "cell_type": "code",
   "execution_count": 468,
   "metadata": {},
   "outputs": [
    {
     "name": "stdout",
     "output_type": "stream",
     "text": [
      "firing rate is:\n",
      "[5, 10, 15, 20, 25, 30, 35, 40, 45, 50, 55, 60, 65, 70, 75, 80, 85, 90, 95, 100]\n",
      "listOfTimeIntervals is:\n",
      "[2, 4, 6, 8, 10, 12, 14, 16, 18, 20, 22, 24, 26, 28, 30, 32, 34, 36, 38, 40]\n"
     ]
    }
   ],
   "source": [
    "# creat a list of firing rate(rates) and a list of time interval(T) for function GenerateSpikeTrain\n",
    "listOfFiringRates=[]\n",
    "listOfTimeIntervals=[]\n",
    "startingFiringRate=0\n",
    "startingFiringTime=0\n",
    "for i in range(20):\n",
    "    startingFiringRate += 5\n",
    "    startingFiringTime +=2\n",
    "    listOfFiringRates.append(startingFiringRate)\n",
    "    listOfTimeIntervals.append(startingFiringTime)\n",
    "print(\"firing rate is:\")\n",
    "print(listOfFiringRates)\n",
    "print(\"listOfTimeIntervals is:\")\n",
    "print(listOfTimeIntervals)"
   ]
  },
  {
   "cell_type": "code",
   "execution_count": 469,
   "metadata": {
    "hidden": true
   },
   "outputs": [],
   "source": [
    "# i\n",
    "# network from 3b\n",
    "net = SpikingNetwork()\n",
    "'''\n",
    "         tau_m   membrane time constant, in seconds (s)\n",
    "         tau_ref refractory period (s)\n",
    "         tau_s   synaptic time constant (s)\n",
    "'''\n",
    "net.AddNeuron(LIFNeuron(tau_m=0.02,tau_ref=0.002, tau_s=0.1))  # Neuron 0\n",
    "# GenerateSpikeTrain(rates, T)\n",
    "# rate is an array or list of firing rates (in Hz), one firing rate for each interval.\n",
    "# T is an array or list( the same size as \"rates\") that gives the time to end each iterval\n",
    "\n",
    "# InputNeuron is not a real neuron; Its only job is to deliver spikes, which is useful to activate\n",
    "# the other(real) neurons in the network\n",
    "net.AddNeuron(InputNeuron(GenerateSpikeTrain(listOfFiringRates, listOfTimeIntervals)))  # Neuron 1\n",
    "# Connects neuron 'pre' to neuron 'post' with a connection weigtht of w.\n",
    "net.Connect(1, 0, 0.03)  # Connect from neuron 1 to neuron 0\n",
    "\n",
    "# Simulates the network for T seconds by taking Euler time steps of size dt.\n",
    "net.Simulate(40, 0.001)"
   ]
  },
  {
   "cell_type": "code",
   "execution_count": 470,
   "metadata": {
    "hidden": true
   },
   "outputs": [
    {
     "name": "stdout",
     "output_type": "stream",
     "text": [
      "startTime: 0, endTime: 2\n",
      "numLIFSpikes 0\n",
      "numInputSpikes 10\n",
      "numSpike 10\n",
      "startTime: 2, endTime: 4\n",
      "numLIFSpikes 0\n",
      "numInputSpikes 20\n",
      "numSpike 20\n",
      "startTime: 4, endTime: 6\n",
      "numLIFSpikes 0\n",
      "numInputSpikes 30\n",
      "numSpike 30\n",
      "startTime: 6, endTime: 8\n",
      "numLIFSpikes 0\n",
      "numInputSpikes 40\n",
      "numSpike 40\n",
      "startTime: 8, endTime: 10\n",
      "numLIFSpikes 0\n",
      "numInputSpikes 50\n",
      "numSpike 50\n",
      "startTime: 10, endTime: 12\n",
      "numLIFSpikes 0\n",
      "numInputSpikes 60\n",
      "numSpike 60\n",
      "startTime: 12, endTime: 14\n",
      "numLIFSpikes 30\n",
      "numInputSpikes 70\n",
      "numSpike 100\n",
      "startTime: 14, endTime: 16\n",
      "numLIFSpikes 52\n",
      "numInputSpikes 80\n",
      "numSpike 132\n",
      "startTime: 16, endTime: 18\n",
      "numLIFSpikes 72\n",
      "numInputSpikes 90\n",
      "numSpike 162\n",
      "startTime: 18, endTime: 20\n",
      "numLIFSpikes 85\n",
      "numInputSpikes 100\n",
      "numSpike 185\n",
      "startTime: 20, endTime: 22\n",
      "numLIFSpikes 96\n",
      "numInputSpikes 110\n",
      "numSpike 206\n",
      "startTime: 22, endTime: 24\n",
      "numLIFSpikes 109\n",
      "numInputSpikes 120\n",
      "numSpike 229\n",
      "startTime: 24, endTime: 26\n",
      "numLIFSpikes 122\n",
      "numInputSpikes 130\n",
      "numSpike 252\n",
      "startTime: 26, endTime: 28\n",
      "numLIFSpikes 133\n",
      "numInputSpikes 140\n",
      "numSpike 273\n",
      "startTime: 28, endTime: 30\n",
      "numLIFSpikes 144\n",
      "numInputSpikes 150\n",
      "numSpike 294\n",
      "startTime: 30, endTime: 32\n",
      "numLIFSpikes 153\n",
      "numInputSpikes 160\n",
      "numSpike 313\n",
      "startTime: 32, endTime: 34\n",
      "numLIFSpikes 166\n",
      "numInputSpikes 170\n",
      "numSpike 336\n",
      "startTime: 34, endTime: 36\n",
      "numLIFSpikes 178\n",
      "numInputSpikes 180\n",
      "numSpike 358\n",
      "startTime: 36, endTime: 38\n",
      "numLIFSpikes 182\n",
      "numInputSpikes 190\n",
      "numSpike 372\n",
      "startTime: 38, endTime: 40\n",
      "numLIFSpikes 197\n",
      "numInputSpikes 200\n",
      "numSpike 397\n"
     ]
    }
   ],
   "source": [
    "# ii.\n",
    "num2sIntervals=20\n",
    "startingTime=0\n",
    "#######this part will be used in iii###########\n",
    "numLIFSpikesList=[]\n",
    "numInputSpikesList=[]\n",
    "###############################################\n",
    "for i in range(num2sIntervals):\n",
    "    endOfTimeInterval = startingTime + 2\n",
    "    print('startTime: %d, endTime: %d' % (startingTime,endOfTimeInterval))\n",
    "    # index 0 is the LIFNeuron, index 1 is the InputNeuron\n",
    "    ##########will be used in iii#################\n",
    "    numLIFSpikesList.append(net.neurons[0].SpikesBetween(startingTime,endOfTimeInterval))\n",
    "    numInputSpikesList.append(net.neurons[1].SpikesBetween(startingTime,endOfTimeInterval))\n",
    "    ##############################################\n",
    "    print(\"numLIFSpikes %d\" % net.neurons[0].SpikesBetween(startingTime,endOfTimeInterval))\n",
    "    print(\"numInputSpikes %d\" % net.neurons[1].SpikesBetween(startingTime,endOfTimeInterval))\n",
    "    numSpikes=net.neurons[0].SpikesBetween(startingTime,endOfTimeInterval) + net.neurons[1].SpikesBetween(startingTime,endOfTimeInterval)\n",
    "    print(\"numSpike %d\" % numSpikes)\n",
    "    startingTime = startingTime + 2"
   ]
  },
  {
   "cell_type": "code",
   "execution_count": 471,
   "metadata": {},
   "outputs": [
    {
     "data": {
      "image/png": "[encoded data removed]",
      "text/plain": [
       "<Figure size 432x288 with 1 Axes>"
      ]
     },
     "metadata": {
      "needs_background": "light"
     },
     "output_type": "display_data"
    }
   ],
   "source": [
    "# This cell is for test, see if the firing rate increase\n",
    "plt.plot(net.t_history, net.neurons[0].v_history)\n",
    "plt.xlabel('Neural Network Spiking Time')\n",
    "plt.ylabel('Sub Membrane Potential')\n",
    "plt.title('Test')\n",
    "plt.show()"
   ]
  },
  {
   "cell_type": "code",
   "execution_count": 472,
   "metadata": {},
   "outputs": [
    {
     "data": {
      "image/png": "[encoded data removed]",
      "text/plain": [
       "<Figure size 432x288 with 1 Axes>"
      ]
     },
     "metadata": {
      "needs_background": "light"
     },
     "output_type": "display_data"
    }
   ],
   "source": [
    "# b iii.\n",
    "# covert LIF and Input to an array and calculate their rate of firing in a specific interval\n",
    "numLIFSpikesArray = np.asarray(numLIFSpikesList)\n",
    "rateLIFSpikesArray = numLIFSpikesArray/2\n",
    "numInputSpikesArray = np.asarray(numInputSpikesList)\n",
    "rateInputSpikesArray = numInputSpikesArray/2\n",
    "plt.scatter(rateInputSpikesArray, rateLIFSpikesArray)\n",
    "plt.xlabel('RateInputSpikes')\n",
    "plt.ylabel('RateLIFSpikes')\n",
    "plt.title('Input Firing Rate vs LIF Firing Rate')\n",
    "plt.show()"
   ]
  },
  {
   "cell_type": "markdown",
   "metadata": {
    "hidden": true
   },
   "source": [
    "## (c) Two LIF Neurons"
   ]
  },
  {
   "cell_type": "code",
   "execution_count": 473,
   "metadata": {
    "hidden": true
   },
   "outputs": [],
   "source": [
    "# i.\n",
    "# create a neural network\n",
    "net = SpikingNetwork()\n",
    "'''\n",
    "         tau_m   membrane time constant, in seconds (s)\n",
    "         tau_ref refractory period (s)\n",
    "         tau_s   synaptic time constant (s)\n",
    "'''\n",
    "# add neuron A to the nural network with index 0\n",
    "net.AddNeuron(LIFNeuron(tau_m=0.02,tau_ref=0.002, tau_s=0.05))  # Neuron 0\n",
    "# add neuron B to the nural network with index 1\n",
    "net.AddNeuron(LIFNeuron(tau_m=0.02,tau_ref=0.002, tau_s=0.05))  # Neuron 1\n",
    "# add input neuron to the nural network with index 2            # Neuron 2\n",
    "net.AddNeuron(InputNeuron(GenerateSpikeTrain([30], [0.3])))\n",
    "\n",
    "# connect Neuron from 0 to 1 with weight 0.05\n",
    "net.Connect(0, 1, 0.05)  # Connect from neuron 0 to neuron 1\n",
    "# connect Neuron from 1 to 0 with weight 0.05\n",
    "net.Connect(1, 0, 0.05)  # Connect from neuron 1 to neuron 0\n",
    "# connect Neuron from 2 to 0 with weight 0.05\n",
    "net.Connect(2, 0, 0.05)  # Connect from neuron 2 to neuron 0\n",
    "\n",
    "# Simulates the network for T seconds(1s) by taking Euler time steps of size dt(0.0001).\n",
    "net.Simulate(1, 0.001)\n",
    "\n"
   ]
  },
  {
   "cell_type": "code",
   "execution_count": 474,
   "metadata": {
    "hidden": true
   },
   "outputs": [
    {
     "data": {
      "image/png": "[encoded data removed]",
      "text/plain": [
       "<Figure size 432x288 with 1 Axes>"
      ]
     },
     "metadata": {
      "needs_background": "light"
     },
     "output_type": "display_data"
    }
   ],
   "source": [
    "# ii.\n",
    "# A spike-raster plot for the three neurons in the network\n",
    "spikesTimeOfAllNeuronsInNetwork=net.AllSpikeTimes()\n",
    "PlotSpikeRaster(spikesTimeOfAllNeuronsInNetwork)"
   ]
  },
  {
   "cell_type": "markdown",
   "metadata": {
    "hidden": true
   },
   "source": [
    "## (d) Three LIF Neurons: Inhibition"
   ]
  },
  {
   "cell_type": "code",
   "execution_count": 475,
   "metadata": {
    "hidden": true
   },
   "outputs": [],
   "source": [
    "# i.\n",
    "# create a neural network\n",
    "net = SpikingNetwork()\n",
    "'''\n",
    "         tau_m   membrane time constant, in seconds (s)\n",
    "         tau_ref refractory period (s)\n",
    "         tau_s   synaptic time constant (s)\n",
    "'''\n",
    "# add neuron A to the nural network with index 0\n",
    "net.AddNeuron(LIFNeuron(tau_m=0.02,tau_ref=0.002, tau_s=0.05))  # Neuron 0\n",
    "# add neuron B to the nural network with index 1\n",
    "net.AddNeuron(LIFNeuron(tau_m=0.02,tau_ref=0.002, tau_s=0.05))  # Neuron 1\n",
    "# add neuron C to the nural network with index 2\n",
    "net.AddNeuron(LIFNeuron(tau_m=0.02,tau_ref=0.002, tau_s=0.05))  # Neuron 2\n",
    "# add neuron inputTop to the nural network with index 3\n",
    "net.AddNeuron(InputNeuron(GenerateSpikeTrain([30], [0.3])))     # Neuron 3\n",
    "# add neuron inputBottom to the nural network with index 4 \n",
    "net.AddNeuron(InputNeuron(GenerateSpikeTrain([0, 50], [0.7, 1.])))     # Neuron 4\n",
    "\n",
    "# connect Neuron from 0 to 1 with weight 0.05\n",
    "net.Connect(0, 1, 0.05)  # Connect from neuron 0 to neuron 1\n",
    "# connect Neuron from 1 to 0 with weight 0.05\n",
    "net.Connect(1, 0, 0.05)  # Connect from neuron 1 to neuron 0\n",
    "# connect Neuron from 2 to 1 with weight -0.2\n",
    "net.Connect(2, 1, -0.2)  # Connect from neuron 2 to neuron 1\n",
    "# connect Neuron from 3 to 0 with weight 0.05\n",
    "net.Connect(3, 0, 0.05)  # Connect from neuron 3 to neuron 0\n",
    "# connect Neuron from 4 to 2 with weight 0.05\n",
    "net.Connect(4, 2, 0.05)  # Connect from neuron 4 to neuron 2\n",
    "# Simulates the network for T seconds(1.5s) by taking Euler time steps of size dt(0.0001).\n",
    "net.Simulate(1.5, 0.001)\n"
   ]
  },
  {
   "cell_type": "code",
   "execution_count": 476,
   "metadata": {
    "hidden": true
   },
   "outputs": [
    {
     "data": {
      "image/png": "[encoded data removed]",
      "text/plain": [
       "<Figure size 432x288 with 1 Axes>"
      ]
     },
     "metadata": {
      "needs_background": "light"
     },
     "output_type": "display_data"
    }
   ],
   "source": [
    "# ii.\n",
    "# A spike-raster plot for the three neurons in the network\n",
    "spikesTimeOfAllNeuronsInNetwork=net.AllSpikeTimes()\n",
    "PlotSpikeRaster(spikesTimeOfAllNeuronsInNetwork)"
   ]
  },
  {
   "cell_type": "markdown",
   "metadata": {
    "hidden": true
   },
   "source": [
    "### iii."
   ]
  },
  {
   "cell_type": "markdown",
   "metadata": {
    "hidden": true
   },
   "source": [
    "Your answer here.\n",
    "When neuron A exceeds 0.8s and neuron B exceed 0.75s, they spiked much slower than before. Also, A and B stopped spiking at around 0.85s and 0.8s respectively as compared to both of them were spiking till the end of 1s.\n",
    "This is because an inputNeuron which connected to LIFC spikes after 0.7s and LIFC has a negative connection weight to LIFB, so LIFC will inhibit the activity of LIFB directly and that's one of the reason B stopped spiking first. Since B was inhibited by LIFC somehow, LIFA also spiked much slower and stopped earlier than before."
   ]
  },
  {
   "cell_type": "markdown",
   "metadata": {
    "hidden": true
   },
   "source": [
    "## (e) Ring Oscillator"
   ]
  },
  {
   "cell_type": "code",
   "execution_count": 477,
   "metadata": {
    "hidden": true
   },
   "outputs": [],
   "source": [
    "# i.\n",
    "# create a neural network\n",
    "net = SpikingNetwork()\n",
    "'''\n",
    "         tau_m   membrane time constant, in seconds (s)\n",
    "         tau_ref refractory period (s)\n",
    "         tau_s   synaptic time constant (s)\n",
    "'''\n",
    "# add neuron from A to H to the network and form a ring\n",
    "for i in range(8):\n",
    "    net.AddNeuron(LIFNeuron(tau_m=0.05,tau_s=0.1))\n",
    "# connect from Neuron A to itself to form a ring\n",
    "for i in range(8):\n",
    "    startNeuronIndex=i\n",
    "    toNeuronIndex=i+1\n",
    "    # handle the last case toNeuronIndex 8 which should be 0 in this case\n",
    "    if(toNeuronIndex == 8):\n",
    "        # connect from neuron 7 to 0\n",
    "        net.Connect(startNeuronIndex, 0, 0.2)\n",
    "    else: \n",
    "        net.Connect(startNeuronIndex, toNeuronIndex, 0.2)\n",
    "    "
   ]
  },
  {
   "cell_type": "code",
   "execution_count": 478,
   "metadata": {
    "hidden": true
   },
   "outputs": [],
   "source": [
    "# ii.\n",
    "# connect from H to itself in a reverse direction and with negative weight -0.4\n",
    "for i in range(7,-1,-1): # i=7to0\n",
    "    startNeuronIndex=i\n",
    "    toNeuronIndex=i-1\n",
    "    # handle the last case toNeuronIndex -1 which should be 7 in this case\n",
    "    if (toNeuronIndex == -1):\n",
    "        # connect from neuron 7 to 0\n",
    "        net.Connect(startNeuronIndex, 7, -0.4)\n",
    "    else:\n",
    "        net.Connect(startNeuronIndex, toNeuronIndex, -0.4)"
   ]
  },
  {
   "cell_type": "code",
   "execution_count": 479,
   "metadata": {
    "hidden": true
   },
   "outputs": [],
   "source": [
    "# iii.\n",
    "# add an input neuron to the neural network\n",
    "net.AddNeuron(InputNeuron(GenerateSpikeTrain([25], [0.3]))) # input neuron with index 8\n",
    "# connect input neuron to neuron A with connection weight 0.2\n",
    "net.Connect(8, 0, 0.2)"
   ]
  },
  {
   "cell_type": "code",
   "execution_count": 480,
   "metadata": {
    "hidden": true
   },
   "outputs": [],
   "source": [
    "# iv.\n",
    "# Simulates the network for T seconds(4s) by taking Euler time steps of size dt(0.0001).\n",
    "net.Simulate(4, 0.001)"
   ]
  },
  {
   "cell_type": "code",
   "execution_count": 481,
   "metadata": {},
   "outputs": [
    {
     "data": {
      "image/png": "[encoded data removed]",
      "text/plain": [
       "<Figure size 432x288 with 1 Axes>"
      ]
     },
     "metadata": {
      "needs_background": "light"
     },
     "output_type": "display_data"
    }
   ],
   "source": [
    "# A spike-raster plot for the three neurons in the network\n",
    "spikesTimeOfAllNeuronsInNetwork=net.AllSpikeTimes()\n",
    "PlotSpikeRaster(spikesTimeOfAllNeuronsInNetwork)"
   ]
  },
  {
   "cell_type": "markdown",
   "metadata": {
    "heading_collapsed": true
   },
   "source": [
    "# Q4: Neural Activation Functions"
   ]
  },
  {
   "cell_type": "markdown",
   "metadata": {
    "hidden": true
   },
   "source": [
    "## (a) ReLU derivative"
   ]
  },
  {
   "cell_type": "markdown",
   "metadata": {
    "hidden": true
   },
   "source": [
    "ReLU(z) = 1, if z >0 \n",
    "\n",
    "ReLU(z) = 0, otherwise\n"
   ]
  },
  {
   "cell_type": "markdown",
   "metadata": {
    "hidden": true
   },
   "source": [
    "## (b.i) Logistic"
   ]
  },
  {
   "cell_type": "code",
   "execution_count": 482,
   "metadata": {},
   "outputs": [],
   "source": [
    "import numpy as np\n",
    "import math\n",
    "import matplotlib.pyplot as plt\n",
    "%matplotlib inline\n",
    "from scipy import integrate"
   ]
  },
  {
   "cell_type": "code",
   "execution_count": 483,
   "metadata": {
    "hidden": true
   },
   "outputs": [
    {
     "data": {
      "image/png": "[encoded data removed]",
      "text/plain": [
       "<Figure size 432x288 with 1 Axes>"
      ]
     },
     "metadata": {
      "needs_background": "light"
     },
     "output_type": "display_data"
    }
   ],
   "source": [
    "import math\n",
    "# i.\n",
    "# σ(z) = 1/(1+e^-z)\n",
    "# use function to produce x and y points first\n",
    "z = np.linspace(-6,6,100)\n",
    "y = 1/(1+(math.e ** (-z)))\n",
    "dydz = np.gradient(y)\n",
    "\n",
    "plt.plot(z, y, 'r')\n",
    "plt.xlabel('z')\n",
    "plt.ylabel('σ(z)')\n",
    "plt.title('Standard logistic function')\n",
    "plt.show()\n",
    "\n"
   ]
  },
  {
   "cell_type": "markdown",
   "metadata": {
    "hidden": true
   },
   "source": [
    "YOUR ANSWER HERE\n",
    "1. as the value of z approaches 6 or z approaches -6, the derivative approaches zero\n",
    "2. when the z is at 0, the gradient is maximized"
   ]
  },
  {
   "cell_type": "markdown",
   "metadata": {
    "hidden": true
   },
   "source": [
    "## (b.ii) tanh"
   ]
  },
  {
   "cell_type": "code",
   "execution_count": 484,
   "metadata": {
    "hidden": true
   },
   "outputs": [
    {
     "data": {
      "image/png": "[encoded data removed]",
      "text/plain": [
       "<Figure size 432x288 with 1 Axes>"
      ]
     },
     "metadata": {
      "needs_background": "light"
     },
     "output_type": "display_data"
    }
   ],
   "source": [
    "# ii.\n",
    "z = np.linspace(-6,6,100)\n",
    "y = (1 - (math.e ** (-2 * z)))/(1 + (math.e ** (-2 * z)))\n",
    "dydz = np.gradient(y)\n",
    "\n",
    "plt.plot(z, y, 'r')\n",
    "plt.xlabel('z')\n",
    "plt.ylabel('tanh(z)')\n",
    "plt.title('tanh')\n",
    "plt.show()"
   ]
  },
  {
   "cell_type": "markdown",
   "metadata": {
    "hidden": true
   },
   "source": [
    "1. as the value of z approaches 6 or z approaches -6, the derivative approaches zero\n",
    "2. when the z is at 0, the gradient is maximized"
   ]
  },
  {
   "cell_type": "markdown",
   "metadata": {
    "hidden": true
   },
   "source": [
    "## (b.iii) ReLU"
   ]
  },
  {
   "cell_type": "code",
   "execution_count": 485,
   "metadata": {
    "hidden": true
   },
   "outputs": [
    {
     "data": {
      "image/png": "[encoded data removed]",
      "text/plain": [
       "<Figure size 432x288 with 1 Axes>"
      ]
     },
     "metadata": {
      "needs_background": "light"
     },
     "output_type": "display_data"
    }
   ],
   "source": [
    "# iii.\n",
    "z = np.linspace(-6,6,100)\n",
    "y = []\n",
    "for x in z:\n",
    "    if (x >=0):\n",
    "        y.append(x)\n",
    "    else:\n",
    "        y.append(0)\n",
    "y = np.array(y)\n",
    "dydz = np.gradient(y)\n",
    "    # first plot standard logistic function σ(z)\n",
    "plt.plot(z, y, 'r')\n",
    "plt.xlabel('z')\n",
    "plt.ylabel('ReLU(z)')\n",
    "plt.title('ReLU(z)')\n",
    "plt.show()"
   ]
  },
  {
   "cell_type": "markdown",
   "metadata": {
    "hidden": true
   },
   "source": [
    "1. When z value is less than 0, the the derivative is euqual to zero\n",
    "2. when z value is greater than 0, the derivative is maximum"
   ]
  },
  {
   "cell_type": "markdown",
   "metadata": {
    "hidden": true
   },
   "source": [
    "## (c.i) Derivative of f with respect to x"
   ]
  },
  {
   "cell_type": "markdown",
   "metadata": {
    "hidden": true
   },
   "source": [
    "w*f'(wx+b) "
   ]
  },
  {
   "cell_type": "markdown",
   "metadata": {
    "hidden": true
   },
   "source": [
    "## (c.ii) Derivative of f with respect to W"
   ]
  },
  {
   "cell_type": "markdown",
   "metadata": {
    "hidden": true
   },
   "source": [
    "x*f'(wx+b)"
   ]
  },
  {
   "cell_type": "markdown",
   "metadata": {
    "hidden": true
   },
   "source": [
    "## (c.ii) Derivative of f with respect to b"
   ]
  },
  {
   "cell_type": "markdown",
   "metadata": {
    "hidden": true
   },
   "source": [
    "f'(wx+b)"
   ]
  },
  {
   "cell_type": "code",
   "execution_count": null,
   "metadata": {},
   "outputs": [],
   "source": []
  }
 ],
 "metadata": {
  "kernelspec": {
   "display_name": "Python 3",
   "language": "python",
   "name": "python3"
  },
  "language_info": {
   "codemirror_mode": {
    "name": "ipython",
    "version": 3
   },
   "file_extension": ".py",
   "mimetype": "text/x-python",
   "name": "python",
   "nbconvert_exporter": "python",
   "pygments_lexer": "ipython3",
   "version": "3.7.1"
  }
 },
 "nbformat": 4,
 "nbformat_minor": 2
}
