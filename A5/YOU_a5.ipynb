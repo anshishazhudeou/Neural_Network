{
 "cells": [
  {
   "cell_type": "markdown",
   "metadata": {},
   "source": [
    "# A5"
   ]
  },
  {
   "cell_type": "code",
   "execution_count": 10,
   "metadata": {
    "collapsed": true
   },
   "outputs": [],
   "source": [
    "# Standard Imports\n",
    "import numpy as np\n",
    "import matplotlib.pylab as plt\n",
    "%matplotlib inline\n",
    "\n",
    "import Network as NN\n",
    "import importlib\n",
    "import mnist_loader\n",
    "\n",
    "import copy\n",
    "import random"
   ]
  },
  {
   "cell_type": "markdown",
   "metadata": {
    "heading_collapsed": true
   },
   "source": [
    "# Q1: Electrophysiology Experiment"
   ]
  },
  {
   "cell_type": "code",
   "execution_count": 2,
   "metadata": {
    "collapsed": true,
    "hidden": true
   },
   "outputs": [],
   "source": [
    "import lif\n",
    "\n",
    "def MonkeyFixationSpikes(x, T, pop):\n",
    "    \"\"\"\n",
    "    spike_times = MonkeyFixationSpikes(x, T, pop)\n",
    "\n",
    "    Given the gaze direction, outputs the spiking activity of the monkey's\n",
    "    neurons.\n",
    "\n",
    "    Input:\n",
    "      x is the monkey's gaze direction\n",
    "      T is the duration of the fixation (in seconds)\n",
    "      pop is a 6xN matrix of LIF parameters\n",
    "\n",
    "    Output:\n",
    "      spike_times is an list containing N arrays of time-stamps indicating\n",
    "        when each neuron fired.  \n",
    "    \"\"\"\n",
    "    dt = 0.001  # time-step size for simulations\n",
    "    xts = x*np.ones(int(T/dt))\n",
    "    sp, v = lif.Stim2Spikes(xts, dt, pop, interp=True)\n",
    "    return sp"
   ]
  },
  {
   "cell_type": "code",
   "execution_count": 136,
   "metadata": {
    "collapsed": true,
    "hidden": true
   },
   "outputs": [],
   "source": [
    "#=====================\n",
    "# CHOOSE A MONKEY\n",
    "# The monkey's are numbered 0, 1, 2, 3, and 4.\n",
    "# This will read in the LIF parameters for the monkey's neurons\n",
    "# as well as the spiking trains for the unknown sequence.\n",
    "#=====================\n",
    "infile = open('monkey3.npz', 'rb')\n",
    "varsin = np.load(infile)\n",
    "pop = varsin['pop']   # parameters for population of neurons\n",
    "Asp = varsin['Asp']   # spike trains for unknown sequence\n",
    "N = len(pop[1])  # number of neurons"
   ]
  },
  {
   "cell_type": "markdown",
   "metadata": {
    "hidden": true
   },
   "source": [
    "## (a) Behavioural Sampling Experiment"
   ]
  },
  {
   "cell_type": "code",
   "execution_count": 137,
   "metadata": {
    "collapsed": true,
    "hidden": true
   },
   "outputs": [],
   "source": [
    "# Select a spread of stimulus values from 0 to 9. Choose at least 100 samples.\n",
    "\n",
    "# ***** YOUR CODE HERE *****"
   ]
  },
  {
   "cell_type": "markdown",
   "metadata": {
    "hidden": true
   },
   "source": [
    "## (b) View Tuning Curves"
   ]
  },
  {
   "cell_type": "code",
   "execution_count": 1,
   "metadata": {
    "collapsed": true,
    "hidden": true,
    "scrolled": true
   },
   "outputs": [],
   "source": [
    "# ***** YOUR CODE HERE *****"
   ]
  },
  {
   "cell_type": "markdown",
   "metadata": {
    "hidden": true
   },
   "source": [
    "## (c) Compute the Decoding Weights"
   ]
  },
  {
   "cell_type": "code",
   "execution_count": 4,
   "metadata": {
    "collapsed": true,
    "hidden": true
   },
   "outputs": [],
   "source": [
    "# ***** YOUR CODE HERE *****"
   ]
  },
  {
   "cell_type": "markdown",
   "metadata": {
    "hidden": true
   },
   "source": [
    "## (d) View Spike Raster of Unknown Sequence"
   ]
  },
  {
   "cell_type": "code",
   "execution_count": 5,
   "metadata": {
    "collapsed": true,
    "hidden": true
   },
   "outputs": [],
   "source": [
    "# ***** YOUR CODE HERE *****"
   ]
  },
  {
   "cell_type": "markdown",
   "metadata": {
    "hidden": true
   },
   "source": [
    "## (e) Decode the Unknown Code"
   ]
  },
  {
   "cell_type": "code",
   "execution_count": 129,
   "metadata": {
    "collapsed": true,
    "hidden": true
   },
   "outputs": [],
   "source": [
    "# Spike trains for unknown sequence are stored in 'Asp'\n",
    "# Asp is a list of arrays of spike trains, one array per neuron."
   ]
  },
  {
   "cell_type": "code",
   "execution_count": 130,
   "metadata": {
    "collapsed": true,
    "hidden": true
   },
   "outputs": [],
   "source": [
    "# Compute firing rates\n",
    "\n",
    "# ***** YOUR CODE HERE *****"
   ]
  },
  {
   "cell_type": "code",
   "execution_count": 6,
   "metadata": {
    "collapsed": true,
    "hidden": true
   },
   "outputs": [],
   "source": [
    "# Decode unknown code\n",
    "\n",
    "# ***** YOUR CODE HERE *****"
   ]
  },
  {
   "cell_type": "markdown",
   "metadata": {
    "hidden": true
   },
   "source": [
    "## (f) Display the Unknown Code"
   ]
  },
  {
   "cell_type": "code",
   "execution_count": 7,
   "metadata": {
    "collapsed": true,
    "hidden": true
   },
   "outputs": [],
   "source": [
    "# ***** YOUR CODE HERE *****"
   ]
  },
  {
   "cell_type": "markdown",
   "metadata": {
    "collapsed": true,
    "heading_collapsed": true
   },
   "source": [
    "# Q2: LSTM"
   ]
  },
  {
   "cell_type": "code",
   "execution_count": null,
   "metadata": {
    "collapsed": true,
    "hidden": true
   },
   "outputs": [],
   "source": [
    "# You may include some Python code to help you."
   ]
  },
  {
   "cell_type": "markdown",
   "metadata": {
    "heading_collapsed": true,
    "hidden": true
   },
   "source": [
    "## (a)"
   ]
  },
  {
   "cell_type": "markdown",
   "metadata": {
    "hidden": true
   },
   "source": [
    "### (i)"
   ]
  },
  {
   "cell_type": "code",
   "execution_count": 8,
   "metadata": {
    "collapsed": true,
    "hidden": true
   },
   "outputs": [],
   "source": [
    "# You can include some code, if you want."
   ]
  },
  {
   "cell_type": "markdown",
   "metadata": {
    "hidden": true
   },
   "source": [
    "YOUR ANSWER HERE."
   ]
  },
  {
   "cell_type": "markdown",
   "metadata": {
    "hidden": true
   },
   "source": [
    "### (ii)"
   ]
  },
  {
   "cell_type": "code",
   "execution_count": null,
   "metadata": {
    "collapsed": true,
    "hidden": true
   },
   "outputs": [],
   "source": []
  },
  {
   "cell_type": "markdown",
   "metadata": {
    "hidden": true
   },
   "source": [
    "YOUR ANSWER HERE."
   ]
  },
  {
   "cell_type": "markdown",
   "metadata": {
    "hidden": true
   },
   "source": [
    "### (iii)"
   ]
  },
  {
   "cell_type": "code",
   "execution_count": null,
   "metadata": {
    "collapsed": true,
    "hidden": true
   },
   "outputs": [],
   "source": []
  },
  {
   "cell_type": "markdown",
   "metadata": {
    "hidden": true
   },
   "source": [
    "YOUR ANSWER HERE."
   ]
  },
  {
   "cell_type": "markdown",
   "metadata": {
    "heading_collapsed": true,
    "hidden": true
   },
   "source": [
    "## (b)"
   ]
  },
  {
   "cell_type": "code",
   "execution_count": null,
   "metadata": {
    "collapsed": true,
    "hidden": true
   },
   "outputs": [],
   "source": []
  },
  {
   "cell_type": "markdown",
   "metadata": {
    "hidden": true
   },
   "source": [
    "YOUR ANSWER HERE."
   ]
  },
  {
   "cell_type": "markdown",
   "metadata": {
    "heading_collapsed": true,
    "hidden": true
   },
   "source": [
    "## (c)"
   ]
  },
  {
   "cell_type": "code",
   "execution_count": null,
   "metadata": {
    "collapsed": true,
    "hidden": true
   },
   "outputs": [],
   "source": []
  },
  {
   "cell_type": "markdown",
   "metadata": {
    "hidden": true
   },
   "source": [
    "YOUR ANSWER HERE."
   ]
  },
  {
   "cell_type": "markdown",
   "metadata": {
    "collapsed": true
   },
   "source": [
    "# Q3: Adversarial Inputs"
   ]
  },
  {
   "cell_type": "markdown",
   "metadata": {
    "heading_collapsed": true
   },
   "source": [
    "## Load data, get trained network, etc."
   ]
  },
  {
   "cell_type": "code",
   "execution_count": 13,
   "metadata": {
    "collapsed": true,
    "hidden": true
   },
   "outputs": [],
   "source": [
    "# Load MNIST\n",
    "train, validate, test = mnist_loader.load_data_wrapper()\n",
    "train_in = np.array(train[0])\n",
    "train_out = np.array(train[1])"
   ]
  },
  {
   "cell_type": "code",
   "execution_count": 368,
   "metadata": {
    "collapsed": true,
    "hidden": true
   },
   "outputs": [],
   "source": [
    "# You can create and train your own Network on MNIST.\n",
    "# You can save it like this...\n",
    "net.Save('blah.npy')"
   ]
  },
  {
   "cell_type": "code",
   "execution_count": 11,
   "metadata": {
    "collapsed": true,
    "hidden": true
   },
   "outputs": [],
   "source": [
    "# Or, you can load the pretrained Network object from the supplied file,\n",
    "# like this...\n",
    "net = NN.Network()\n",
    "net.Load('MNIST_trained_784-100-100-10.npy')"
   ]
  },
  {
   "cell_type": "code",
   "execution_count": 14,
   "metadata": {
    "hidden": true
   },
   "outputs": [
    {
     "name": "stdout",
     "output_type": "stream",
     "text": [
      "Testing Accuracy = 97.53%\n",
      "Training Accuracy = 99.136%\n"
     ]
    }
   ],
   "source": [
    "test_ac = NN.ClassificationAccuracy(net.FeedForward(test[0]), test[1])\n",
    "print('Testing Accuracy = '+str(test_ac*100)+'%')\n",
    "\n",
    "train_ac = NN.ClassificationAccuracy(net.FeedForward(train[0]), train[1])\n",
    "print('Training Accuracy = '+str(train_ac*100)+'%')"
   ]
  },
  {
   "cell_type": "code",
   "execution_count": 358,
   "metadata": {
    "collapsed": true,
    "hidden": true
   },
   "outputs": [],
   "source": [
    "#Extract 10 digits from MNIST classified correctly by the network\n",
    "x_image = []\n",
    "x_class = []\n",
    "for i in range(0, 10):\n",
    "    while True:\n",
    "        j = random.randint(0, len(test[0]))\n",
    "        if np.argmax(test[1][j]) == i:\n",
    "            r = net.FeedForward([test[0][j]])\n",
    "            if np.argmax(r) == i:\n",
    "                x_image.append(test[0][j])\n",
    "                x_class.append(test[1][j])\n",
    "                break"
   ]
  },
  {
   "cell_type": "markdown",
   "metadata": {
    "heading_collapsed": true
   },
   "source": [
    "## (a) GradientInput"
   ]
  },
  {
   "cell_type": "code",
   "execution_count": 18,
   "metadata": {
    "collapsed": true,
    "hidden": true
   },
   "outputs": [],
   "source": [
    "def GradientInput(net, x, t):\n",
    "    '''\n",
    "        dEdx = Input_Gradient_Ascent(net, x, t)\n",
    "\n",
    "        Computes dEdx for a network given input x and target t.\n",
    "        The cost function is specified by the network.\n",
    "\n",
    "        Inputs:\n",
    "          net is the neural network\n",
    "          x is the input that you want to perturb\n",
    "          t is the corresponding true target vector (one-hot)\n",
    "        \n",
    "        Output:\n",
    "          dEdx is a vector the same shape as x\n",
    "    '''\n",
    "\n",
    "    # ***** YOUR CODE HERE *****\n",
    "    \n",
    "    dEdx = copy.deepcopy(x)\n",
    "    \n",
    "    return dEdx"
   ]
  },
  {
   "cell_type": "markdown",
   "metadata": {},
   "source": [
    "## (b) FGSM"
   ]
  },
  {
   "cell_type": "code",
   "execution_count": 19,
   "metadata": {
    "collapsed": true
   },
   "outputs": [],
   "source": [
    "def FGSM(net, x_input, x_class, ep=0.05, it_lim=100000, conf=0.5, targ=False):\n",
    "    '''\n",
    "        x_adv = FGSM(net, x_input, x_class, ep=0.05, it_lim=100000, conf=0.5)\n",
    "        \n",
    "        Performs the Fast Gradient Sign Method, perturbing each input until it\n",
    "        is misclassified with the specified confidence, or reaches the maximum\n",
    "        number of iterations.\n",
    "        \n",
    "        Inputs:\n",
    "          net is the Network object\n",
    "          x_input is a batch of inputs\n",
    "          x_class is the corresponding one-hot class vectors\n",
    "          ep is the perturbation step for the FGSM\n",
    "          it_lim is the maximum number of iterations\n",
    "          conf is the desired confidence for the misclassification\n",
    "          targ is Boolean, indicating if the FGSM is targetted\n",
    "             if targ is False, then x_class is considered to be the true\n",
    "             class of the input, and FGSM will work to increase the cost\n",
    "             if targ is True, then x_class is considered to be the target\n",
    "             class for the perturbation, and FGSM will work to decrease the cost\n",
    "        \n",
    "        Output:\n",
    "          x_adv is a batch of adversarial inputs, the same size as x_input\n",
    "    '''\n",
    "\n",
    "    # ***** YOUR CODE HERE *****\n",
    "    \n",
    "    x_adv = copy.deepcopy(x_input)\n",
    "    \n",
    "    return np.array(x_adv)"
   ]
  },
  {
   "cell_type": "markdown",
   "metadata": {
    "heading_collapsed": true
   },
   "source": [
    "## (c) Untargetted Adversarial Perturbation"
   ]
  },
  {
   "cell_type": "code",
   "execution_count": 20,
   "metadata": {
    "collapsed": true,
    "hidden": true,
    "scrolled": true
   },
   "outputs": [],
   "source": [
    "# ***** YOUR CODE HERE *****"
   ]
  },
  {
   "cell_type": "markdown",
   "metadata": {
    "collapsed": true,
    "heading_collapsed": true
   },
   "source": [
    "## (d) Targetted Adversarial Perturbation"
   ]
  },
  {
   "cell_type": "code",
   "execution_count": 20,
   "metadata": {
    "collapsed": true,
    "hidden": true,
    "scrolled": true
   },
   "outputs": [],
   "source": [
    "# ***** YOUR CODE HERE *****"
   ]
  }
 ],
 "metadata": {
  "kernelspec": {
   "display_name": "Python 3",
   "language": "python",
   "name": "python3"
  },
  "language_info": {
   "codemirror_mode": {
    "name": "ipython",
    "version": 3
   },
   "file_extension": ".py",
   "mimetype": "text/x-python",
   "name": "python",
   "nbconvert_exporter": "python",
   "pygments_lexer": "ipython3",
   "version": "3.6.3"
  }
 },
 "nbformat": 4,
 "nbformat_minor": 2
}
